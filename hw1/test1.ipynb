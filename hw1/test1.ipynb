{
 "cells": [
  {
   "cell_type": "code",
   "execution_count": 1,
   "metadata": {
    "ExecuteTime": {
     "end_time": "2020-09-09T04:40:41.553841Z",
     "start_time": "2020-09-09T04:40:29.573148Z"
    }
   },
   "outputs": [
    {
     "data": {
      "text/plain": [
       "{'retweet_count': 338,\n",
       " 'user': {'description': 'Seattle-based amateur chef and gamer with deep passion for theater and music.',\n",
       "  'followers_count': 582,\n",
       "  'default_profile_image': False,\n",
       "  'profile_image_url_https': 'https://pbs.twimg.com/profile_images/977029984966533120/94BsR1Ae_normal.jpg',\n",
       "  'profile_link_color': 'FF0000',\n",
       "  'created_at': 'Thu Feb 12 19:27:48 +0000 2009',\n",
       "  'profile_use_background_image': True,\n",
       "  'time_zone': 'Pacific Time (US & Canada)',\n",
       "  'has_extended_profile': True,\n",
       "  'following': False,\n",
       "  'translator_type': 'none',\n",
       "  'profile_sidebar_border_color': '65B0DA',\n",
       "  'follow_request_sent': False,\n",
       "  'profile_background_tile': True,\n",
       "  'id': 20708129,\n",
       "  'utc_offset': -25200,\n",
       "  'profile_text_color': '3D1957',\n",
       "  'location': 'Seattle, WA',\n",
       "  'lang': 'en',\n",
       "  'listed_count': 54,\n",
       "  'friends_count': 414,\n",
       "  'profile_sidebar_fill_color': '7AC3EE',\n",
       "  'profile_background_color': '642D8B',\n",
       "  'protected': False,\n",
       "  'profile_image_url': 'http://pbs.twimg.com/profile_images/977029984966533120/94BsR1Ae_normal.jpg',\n",
       "  'profile_banner_url': 'https://pbs.twimg.com/profile_banners/20708129/1506732872',\n",
       "  'name': 'Jacqui Kramer',\n",
       "  'profile_background_image_url': 'http://abs.twimg.com/images/themes/theme7/bg.gif',\n",
       "  'entities': {'description': {'urls': []},\n",
       "   'url': {'urls': [{'url': 'https://t.co/nnl5vlqvd5',\n",
       "      'indices': [0, 23],\n",
       "      'display_url': 'busygamernation.com',\n",
       "      'expanded_url': 'http://www.busygamernation.com'}]}},\n",
       "  'notifications': False,\n",
       "  'url': 'https://t.co/nnl5vlqvd5',\n",
       "  'favourites_count': 2069,\n",
       "  'statuses_count': 14721,\n",
       "  'geo_enabled': False,\n",
       "  'default_profile': False,\n",
       "  'is_translator': False,\n",
       "  'contributors_enabled': False,\n",
       "  'id_str': '20708129',\n",
       "  'is_translation_enabled': False,\n",
       "  'screen_name': 'GrrlGotGame',\n",
       "  'verified': False,\n",
       "  'profile_background_image_url_https': 'https://abs.twimg.com/images/themes/theme7/bg.gif'},\n",
       " 'created_at': 'Tue Oct 21 00:01:01 +0000 2014',\n",
       " 'place': None,\n",
       " 'in_reply_to_screen_name': None,\n",
       " 'truncated': False,\n",
       " 'favorite_count': 0,\n",
       " 'source': '<a href=\"http://stone.com/Twittelator\" rel=\"nofollow\">Twittelator</a>',\n",
       " 'id': 524349599096774656,\n",
       " 'in_reply_to_user_id_str': None,\n",
       " 'text': 'RT @misterbrilliant: First scene from the new series of Firefly has been leaked. #GamerGate http://t.co/5D3OMkwOfd',\n",
       " 'extended_entities': {'media': [{'source_status_id': 523127956492009472,\n",
       "    'display_url': 'pic.twitter.com/5D3OMkwOfd',\n",
       "    'media_url_https': 'https://pbs.twimg.com/media/B0KGGhmCEAAHVhb.jpg',\n",
       "    'media_url': 'http://pbs.twimg.com/media/B0KGGhmCEAAHVhb.jpg',\n",
       "    'source_user_id': 16103528,\n",
       "    'expanded_url': 'https://twitter.com/misterbrilliant/status/523127956492009472/photo/1',\n",
       "    'sizes': {'large': {'h': 409, 'w': 545, 'resize': 'fit'},\n",
       "     'medium': {'h': 409, 'w': 545, 'resize': 'fit'},\n",
       "     'small': {'h': 409, 'w': 545, 'resize': 'fit'},\n",
       "     'thumb': {'h': 150, 'w': 150, 'resize': 'crop'}},\n",
       "    'url': 'http://t.co/5D3OMkwOfd',\n",
       "    'type': 'photo',\n",
       "    'indices': [92, 114],\n",
       "    'source_status_id_str': '523127956492009472',\n",
       "    'id': 523127953383624704,\n",
       "    'id_str': '523127953383624704',\n",
       "    'source_user_id_str': '16103528'}]},\n",
       " 'retweeted': False,\n",
       " 'lang': 'en',\n",
       " 'favorited': False,\n",
       " 'entities': {'media': [{'source_status_id': 523127956492009472,\n",
       "    'display_url': 'pic.twitter.com/5D3OMkwOfd',\n",
       "    'media_url_https': 'https://pbs.twimg.com/media/B0KGGhmCEAAHVhb.jpg',\n",
       "    'media_url': 'http://pbs.twimg.com/media/B0KGGhmCEAAHVhb.jpg',\n",
       "    'source_user_id': 16103528,\n",
       "    'expanded_url': 'https://twitter.com/misterbrilliant/status/523127956492009472/photo/1',\n",
       "    'sizes': {'large': {'h': 409, 'w': 545, 'resize': 'fit'},\n",
       "     'medium': {'h': 409, 'w': 545, 'resize': 'fit'},\n",
       "     'small': {'h': 409, 'w': 545, 'resize': 'fit'},\n",
       "     'thumb': {'h': 150, 'w': 150, 'resize': 'crop'}},\n",
       "    'url': 'http://t.co/5D3OMkwOfd',\n",
       "    'type': 'photo',\n",
       "    'indices': [92, 114],\n",
       "    'source_status_id_str': '523127956492009472',\n",
       "    'id': 523127953383624704,\n",
       "    'id_str': '523127953383624704',\n",
       "    'source_user_id_str': '16103528'}],\n",
       "  'hashtags': [{'text': 'GamerGate', 'indices': [81, 91]}],\n",
       "  'symbols': [],\n",
       "  'urls': [],\n",
       "  'user_mentions': [{'id': 16103528,\n",
       "    'id_str': '16103528',\n",
       "    'indices': [3, 19],\n",
       "    'screen_name': 'misterbrilliant',\n",
       "    'name': 'Steve Hogarty'}]},\n",
       " 'retweeted_status': {'retweet_count': 338,\n",
       "  'user': {'description': 'a writer for cool magazines about stuff, also @CityAM gadget and travel man',\n",
       "   'followers_count': 17030,\n",
       "   'default_profile_image': False,\n",
       "   'profile_image_url_https': 'https://pbs.twimg.com/profile_images/1520699808/16969_295786569338_504369338_3200925_5347851_n_normal.jpg',\n",
       "   'profile_link_color': 'FF3300',\n",
       "   'created_at': 'Tue Sep 02 21:39:11 +0000 2008',\n",
       "   'profile_use_background_image': True,\n",
       "   'time_zone': 'London',\n",
       "   'has_extended_profile': False,\n",
       "   'following': False,\n",
       "   'translator_type': 'none',\n",
       "   'profile_sidebar_border_color': '86A4A6',\n",
       "   'follow_request_sent': False,\n",
       "   'profile_background_tile': True,\n",
       "   'id': 16103528,\n",
       "   'utc_offset': 3600,\n",
       "   'profile_text_color': '333333',\n",
       "   'location': 'London, England',\n",
       "   'lang': 'en',\n",
       "   'listed_count': 344,\n",
       "   'friends_count': 277,\n",
       "   'profile_sidebar_fill_color': 'FFFFFF',\n",
       "   'profile_background_color': '709397',\n",
       "   'protected': False,\n",
       "   'profile_image_url': 'http://pbs.twimg.com/profile_images/1520699808/16969_295786569338_504369338_3200925_5347851_n_normal.jpg',\n",
       "   'profile_banner_url': 'https://pbs.twimg.com/profile_banners/16103528/1398439650',\n",
       "   'name': 'Steve Hogarty',\n",
       "   'profile_background_image_url': 'http://abs.twimg.com/images/themes/theme6/bg.gif',\n",
       "   'entities': {'description': {'urls': []},\n",
       "    'url': {'urls': [{'url': 'https://t.co/UKHUE7PYpL',\n",
       "       'indices': [0, 23],\n",
       "       'display_url': 'misterbrilliant.com',\n",
       "       'expanded_url': 'http://misterbrilliant.com'}]}},\n",
       "   'notifications': False,\n",
       "   'url': 'https://t.co/UKHUE7PYpL',\n",
       "   'favourites_count': 1389,\n",
       "   'statuses_count': 16411,\n",
       "   'geo_enabled': False,\n",
       "   'default_profile': False,\n",
       "   'is_translator': False,\n",
       "   'contributors_enabled': False,\n",
       "   'id_str': '16103528',\n",
       "   'is_translation_enabled': False,\n",
       "   'screen_name': 'misterbrilliant',\n",
       "   'verified': True,\n",
       "   'profile_background_image_url_https': 'https://abs.twimg.com/images/themes/theme6/bg.gif'},\n",
       "  'created_at': 'Fri Oct 17 15:06:38 +0000 2014',\n",
       "  'place': None,\n",
       "  'in_reply_to_screen_name': None,\n",
       "  'truncated': False,\n",
       "  'favorite_count': 469,\n",
       "  'source': '<a href=\"https://about.twitter.com/products/tweetdeck\" rel=\"nofollow\">TweetDeck</a>',\n",
       "  'id': 523127956492009472,\n",
       "  'in_reply_to_user_id_str': None,\n",
       "  'text': 'First scene from the new series of Firefly has been leaked. #GamerGate http://t.co/5D3OMkwOfd',\n",
       "  'extended_entities': {'media': [{'sizes': {'large': {'h': 409,\n",
       "       'w': 545,\n",
       "       'resize': 'fit'},\n",
       "      'medium': {'h': 409, 'w': 545, 'resize': 'fit'},\n",
       "      'small': {'h': 409, 'w': 545, 'resize': 'fit'},\n",
       "      'thumb': {'h': 150, 'w': 150, 'resize': 'crop'}},\n",
       "     'url': 'http://t.co/5D3OMkwOfd',\n",
       "     'type': 'photo',\n",
       "     'indices': [71, 93],\n",
       "     'display_url': 'pic.twitter.com/5D3OMkwOfd',\n",
       "     'media_url_https': 'https://pbs.twimg.com/media/B0KGGhmCEAAHVhb.jpg',\n",
       "     'media_url': 'http://pbs.twimg.com/media/B0KGGhmCEAAHVhb.jpg',\n",
       "     'id': 523127953383624704,\n",
       "     'id_str': '523127953383624704',\n",
       "     'expanded_url': 'https://twitter.com/misterbrilliant/status/523127956492009472/photo/1'}]},\n",
       "  'retweeted': False,\n",
       "  'lang': 'en',\n",
       "  'favorited': False,\n",
       "  'entities': {'media': [{'sizes': {'large': {'h': 409,\n",
       "       'w': 545,\n",
       "       'resize': 'fit'},\n",
       "      'medium': {'h': 409, 'w': 545, 'resize': 'fit'},\n",
       "      'small': {'h': 409, 'w': 545, 'resize': 'fit'},\n",
       "      'thumb': {'h': 150, 'w': 150, 'resize': 'crop'}},\n",
       "     'url': 'http://t.co/5D3OMkwOfd',\n",
       "     'type': 'photo',\n",
       "     'indices': [71, 93],\n",
       "     'display_url': 'pic.twitter.com/5D3OMkwOfd',\n",
       "     'media_url_https': 'https://pbs.twimg.com/media/B0KGGhmCEAAHVhb.jpg',\n",
       "     'media_url': 'http://pbs.twimg.com/media/B0KGGhmCEAAHVhb.jpg',\n",
       "     'id': 523127953383624704,\n",
       "     'id_str': '523127953383624704',\n",
       "     'expanded_url': 'https://twitter.com/misterbrilliant/status/523127956492009472/photo/1'}],\n",
       "   'hashtags': [{'text': 'GamerGate', 'indices': [60, 70]}],\n",
       "   'symbols': [],\n",
       "   'urls': [],\n",
       "   'user_mentions': []},\n",
       "  'contributors': None,\n",
       "  'in_reply_to_user_id': None,\n",
       "  'is_quote_status': False,\n",
       "  'coordinates': None,\n",
       "  'id_str': '523127956492009472',\n",
       "  'in_reply_to_status_id_str': None,\n",
       "  'geo': None,\n",
       "  'possibly_sensitive': False,\n",
       "  'in_reply_to_status_id': None},\n",
       " 'contributors': None,\n",
       " 'in_reply_to_user_id': None,\n",
       " 'is_quote_status': False,\n",
       " 'coordinates': None,\n",
       " 'id_str': '524349599096774656',\n",
       " 'in_reply_to_status_id_str': None,\n",
       " 'geo': None,\n",
       " 'possibly_sensitive': False,\n",
       " 'in_reply_to_status_id': None}"
      ]
     },
     "execution_count": 1,
     "metadata": {},
     "output_type": "execute_result"
    }
   ],
   "source": [
    "import json\n",
    "tweets = []\n",
    "for line in open('./data/Gamergate.json', 'r'):\n",
    "    tweets.append(json.loads(line))\n",
    "tweets[0]"
   ]
  },
  {
   "cell_type": "markdown",
   "metadata": {},
   "source": [
    "A. How many tweets are in this dataset? (5 points)"
   ]
  },
  {
   "cell_type": "code",
   "execution_count": 2,
   "metadata": {
    "ExecuteTime": {
     "end_time": "2020-09-09T04:40:41.559697Z",
     "start_time": "2020-09-09T04:40:41.554818Z"
    }
   },
   "outputs": [
    {
     "data": {
      "text/plain": [
       "104914"
      ]
     },
     "execution_count": 2,
     "metadata": {},
     "output_type": "execute_result"
    }
   ],
   "source": [
    "n_tweet = len(tweets)\n",
    "n_tweet"
   ]
  },
  {
   "cell_type": "code",
   "execution_count": 3,
   "metadata": {
    "ExecuteTime": {
     "end_time": "2020-09-09T04:40:43.384183Z",
     "start_time": "2020-09-09T04:40:43.380278Z"
    }
   },
   "outputs": [
    {
     "data": {
      "text/plain": [
       "20708129"
      ]
     },
     "execution_count": 3,
     "metadata": {},
     "output_type": "execute_result"
    }
   ],
   "source": [
    "tweets[0]['user']['id']"
   ]
  },
  {
   "cell_type": "code",
   "execution_count": 4,
   "metadata": {
    "ExecuteTime": {
     "end_time": "2020-09-09T04:40:44.842860Z",
     "start_time": "2020-09-09T04:40:44.777488Z"
    },
    "scrolled": true
   },
   "outputs": [
    {
     "data": {
      "text/plain": [
       "20708129"
      ]
     },
     "execution_count": 4,
     "metadata": {},
     "output_type": "execute_result"
    }
   ],
   "source": [
    "user_id = []\n",
    "for tweet in tweets:\n",
    "    user_id.append(tweet['user']['id'])\n",
    "user_id[0]"
   ]
  },
  {
   "cell_type": "code",
   "execution_count": 5,
   "metadata": {
    "ExecuteTime": {
     "end_time": "2020-09-09T04:40:52.188394Z",
     "start_time": "2020-09-09T04:40:47.624883Z"
    }
   },
   "outputs": [],
   "source": [
    "from pyspark import SparkContext\n",
    "try:\n",
    "    sc\n",
    "except NameError:\n",
    "    sc = SparkContext(\"local[*]\", \"PySpark Tutorial\")"
   ]
  },
  {
   "cell_type": "code",
   "execution_count": 9,
   "metadata": {
    "ExecuteTime": {
     "end_time": "2020-09-09T04:44:43.454953Z",
     "start_time": "2020-09-09T04:44:42.923008Z"
    }
   },
   "outputs": [
    {
     "data": {
      "text/plain": [
       "[20708129, 251045973, 1091189214, 2847688135, 2492324996]"
      ]
     },
     "execution_count": 9,
     "metadata": {},
     "output_type": "execute_result"
    }
   ],
   "source": [
    "user_id_rdd = sc.parallelize(user_id)\n",
    "user_id_rdd.take(5)"
   ]
  },
  {
   "cell_type": "code",
   "execution_count": 10,
   "metadata": {
    "ExecuteTime": {
     "end_time": "2020-09-09T04:44:48.372482Z",
     "start_time": "2020-09-09T04:44:44.359059Z"
    }
   },
   "outputs": [
    {
     "data": {
      "text/plain": [
       "[(18746944, 247),\n",
       " (2835016336, 104),\n",
       " (37632528, 2),\n",
       " (2790540392, 50),\n",
       " (2181045176, 24)]"
      ]
     },
     "execution_count": 10,
     "metadata": {},
     "output_type": "execute_result"
    }
   ],
   "source": [
    "user_id_tuple_rdd = user_id_rdd.map(lambda x: (x, 1)).reduceByKey(lambda a, b: a + b)\n",
    "user_id_tuple_rdd.take(5)"
   ]
  },
  {
   "cell_type": "markdown",
   "metadata": {},
   "source": [
    "B. How many unique users are in this dataset? Hint: each user has its unique user\n",
    "id. (5 points)"
   ]
  },
  {
   "cell_type": "code",
   "execution_count": 11,
   "metadata": {
    "ExecuteTime": {
     "end_time": "2020-09-09T04:45:22.877591Z",
     "start_time": "2020-09-09T04:45:19.340396Z"
    }
   },
   "outputs": [
    {
     "data": {
      "text/plain": [
       "21049"
      ]
     },
     "execution_count": 11,
     "metadata": {},
     "output_type": "execute_result"
    }
   ],
   "source": [
    "n_user = user_id_tuple_rdd.count()\n",
    "n_user"
   ]
  },
  {
   "cell_type": "code",
   "execution_count": 15,
   "metadata": {
    "ExecuteTime": {
     "end_time": "2020-09-09T04:50:43.758942Z",
     "start_time": "2020-09-09T04:50:43.637895Z"
    }
   },
   "outputs": [
    {
     "data": {
      "text/plain": [
       "('GrrlGotGame', 582)"
      ]
     },
     "execution_count": 15,
     "metadata": {},
     "output_type": "execute_result"
    }
   ],
   "source": [
    "user_name_fo = []\n",
    "for tweet in tweets:\n",
    "    user_name_fo.append((tweet['user']['screen_name'], tweet['user']['followers_count']))\n",
    "user_name_fo[0]"
   ]
  },
  {
   "cell_type": "code",
   "execution_count": 17,
   "metadata": {
    "ExecuteTime": {
     "end_time": "2020-09-09T04:51:31.695658Z",
     "start_time": "2020-09-09T04:51:20.600516Z"
    }
   },
   "outputs": [
    {
     "data": {
      "text/plain": [
       "[('washingtonpost', 12584968),\n",
       " ('TheOnion', 11427200),\n",
       " ('WIRED', 10587728),\n",
       " ('WIRED', 10587719),\n",
       " ('guardian', 7195741)]"
      ]
     },
     "execution_count": 17,
     "metadata": {},
     "output_type": "execute_result"
    }
   ],
   "source": [
    "user_name_fo_rdd = sc.parallelize(user_name_fo).sortBy(lambda x: x[1], False)\n",
    "user_name_fo_rdd.take(5)"
   ]
  },
  {
   "cell_type": "markdown",
   "metadata": {},
   "source": [
    "C. Identify top 3 users with most followers. We would need you to output the\n",
    "screen name of these users along with the number of followers they each have.\n",
    "(5 points)"
   ]
  },
  {
   "cell_type": "code",
   "execution_count": 18,
   "metadata": {
    "ExecuteTime": {
     "end_time": "2020-09-09T04:52:20.732872Z",
     "start_time": "2020-09-09T04:52:20.229568Z"
    }
   },
   "outputs": [
    {
     "data": {
      "text/plain": [
       "[('washingtonpost', 12584968), ('TheOnion', 11427200), ('WIRED', 10587728)]"
      ]
     },
     "execution_count": 18,
     "metadata": {},
     "output_type": "execute_result"
    }
   ],
   "source": [
    "popular_users = user_name_fo_rdd.take(3)\n",
    "popular_users"
   ]
  },
  {
   "cell_type": "code",
   "execution_count": 24,
   "metadata": {
    "ExecuteTime": {
     "end_time": "2020-09-09T04:54:18.089523Z",
     "start_time": "2020-09-09T04:54:18.084642Z"
    }
   },
   "outputs": [
    {
     "data": {
      "text/plain": [
       "'Tue'"
      ]
     },
     "execution_count": 24,
     "metadata": {},
     "output_type": "execute_result"
    }
   ],
   "source": [
    "tweets[0]['created_at'].split()[0]"
   ]
  },
  {
   "cell_type": "code",
   "execution_count": 26,
   "metadata": {
    "ExecuteTime": {
     "end_time": "2020-09-09T04:57:22.118263Z",
     "start_time": "2020-09-09T04:57:22.044435Z"
    }
   },
   "outputs": [
    {
     "data": {
      "text/plain": [
       "44558"
      ]
     },
     "execution_count": 26,
     "metadata": {},
     "output_type": "execute_result"
    }
   ],
   "source": [
    "tuesday = []\n",
    "tue_cnt = 0\n",
    "for tweet in tweets:\n",
    "    if tweet['created_at'].split()[0] == 'Tue':\n",
    "        tue_cnt += 1\n",
    "tue_cnt"
   ]
  },
  {
   "cell_type": "code",
   "execution_count": 41,
   "metadata": {
    "ExecuteTime": {
     "end_time": "2020-09-09T05:42:45.453099Z",
     "start_time": "2020-09-09T05:42:38.306962Z"
    }
   },
   "outputs": [
    {
     "data": {
      "text/plain": [
       "[('Wed', 43454), ('Thu', 16902), ('Tue', 44558)]"
      ]
     },
     "execution_count": 41,
     "metadata": {},
     "output_type": "execute_result"
    }
   ],
   "source": [
    "weekday = []\n",
    "for tweet in tweets:\n",
    "    weekday.append(tweet['created_at'].split()[0])\n",
    "weekday_rdd = sc.parallelize(weekday)\n",
    "weekday_tuple_rdd = weekday_rdd.map(lambda x: (x, 1)).reduceByKey(lambda a, b: a + b)\n",
    "weekday_cnt = weekday_tuple_rdd.collect()\n",
    "weekday_cnt"
   ]
  },
  {
   "cell_type": "code",
   "execution_count": 43,
   "metadata": {
    "ExecuteTime": {
     "end_time": "2020-09-09T05:45:20.276455Z",
     "start_time": "2020-09-09T05:45:20.271576Z"
    }
   },
   "outputs": [
    {
     "data": {
      "text/plain": [
       "{'Wed': 43454, 'Thu': 16902, 'Tue': 44558}"
      ]
     },
     "execution_count": 43,
     "metadata": {},
     "output_type": "execute_result"
    }
   ],
   "source": [
    "weekday_dict = {}\n",
    "for cnt in weekday_cnt:\n",
    "    weekday_dict[cnt[0]]  = cnt[1]\n",
    "weekday_dict"
   ]
  },
  {
   "cell_type": "markdown",
   "metadata": {},
   "source": [
    "D. Each tweet has an associated date to when it is created. Identify the number of\n",
    "tweets that are created on Tuesday. (5 points)\n",
    "Input"
   ]
  },
  {
   "cell_type": "code",
   "execution_count": 44,
   "metadata": {
    "ExecuteTime": {
     "end_time": "2020-09-09T05:45:54.585012Z",
     "start_time": "2020-09-09T05:45:54.580132Z"
    }
   },
   "outputs": [
    {
     "data": {
      "text/plain": [
       "44558"
      ]
     },
     "execution_count": 44,
     "metadata": {},
     "output_type": "execute_result"
    }
   ],
   "source": [
    "Tuesday_Tweet = weekday_dict['Tue']\n",
    "Tuesday_Tweet"
   ]
  },
  {
   "cell_type": "code",
   "execution_count": null,
   "metadata": {},
   "outputs": [],
   "source": []
  }
 ],
 "metadata": {
  "kernelspec": {
   "display_name": "Python 3",
   "language": "python",
   "name": "python3"
  },
  "language_info": {
   "codemirror_mode": {
    "name": "ipython",
    "version": 3
   },
   "file_extension": ".py",
   "mimetype": "text/x-python",
   "name": "python",
   "nbconvert_exporter": "python",
   "pygments_lexer": "ipython3",
   "version": "3.7.6"
  }
 },
 "nbformat": 4,
 "nbformat_minor": 4
}
