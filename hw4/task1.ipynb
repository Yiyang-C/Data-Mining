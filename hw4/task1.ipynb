{
 "cells": [
  {
   "cell_type": "code",
   "execution_count": 2,
   "metadata": {
    "ExecuteTime": {
     "end_time": "2020-11-21T00:47:27.725905Z",
     "start_time": "2020-11-21T00:47:27.341335Z"
    }
   },
   "outputs": [],
   "source": [
    "import numpy as np\n",
    "import networkx as nx"
   ]
  },
  {
   "cell_type": "code",
   "execution_count": 3,
   "metadata": {
    "ExecuteTime": {
     "end_time": "2020-11-21T00:47:27.735642Z",
     "start_time": "2020-11-21T00:47:27.729803Z"
    }
   },
   "outputs": [],
   "source": [
    "G = nx.Graph()"
   ]
  },
  {
   "cell_type": "code",
   "execution_count": 4,
   "metadata": {
    "ExecuteTime": {
     "end_time": "2020-11-21T00:47:27.852954Z",
     "start_time": "2020-11-21T00:47:27.848074Z"
    }
   },
   "outputs": [],
   "source": [
    "G.add_edge(1,3)\n",
    "G.add_edge(2,3)\n",
    "G.add_edge(3,5)\n",
    "G.add_edge(4,5)\n",
    "G.add_edge(5,6)\n",
    "G.add_edge(3,8)\n",
    "G.add_edge(7,8)\n",
    "G.add_edge(8,9)\n",
    "G.add_edge(8,10)\n",
    "G.add_edge(10,11)\n",
    "G.add_edge(10,12)"
   ]
  },
  {
   "cell_type": "code",
   "execution_count": 5,
   "metadata": {
    "ExecuteTime": {
     "end_time": "2020-11-21T00:47:28.200439Z",
     "start_time": "2020-11-21T00:47:28.191654Z"
    }
   },
   "outputs": [
    {
     "data": {
      "text/plain": [
       "11"
      ]
     },
     "execution_count": 5,
     "metadata": {},
     "output_type": "execute_result"
    }
   ],
   "source": [
    "G.number_of_edges()"
   ]
  },
  {
   "cell_type": "code",
   "execution_count": 6,
   "metadata": {
    "ExecuteTime": {
     "end_time": "2020-11-21T00:47:28.527894Z",
     "start_time": "2020-11-21T00:47:28.523995Z"
    }
   },
   "outputs": [
    {
     "data": {
      "text/plain": [
       "12"
      ]
     },
     "execution_count": 6,
     "metadata": {},
     "output_type": "execute_result"
    }
   ],
   "source": [
    "G.number_of_nodes()"
   ]
  },
  {
   "cell_type": "code",
   "execution_count": 7,
   "metadata": {
    "ExecuteTime": {
     "end_time": "2020-11-21T00:47:28.814011Z",
     "start_time": "2020-11-21T00:47:28.810108Z"
    }
   },
   "outputs": [],
   "source": [
    "L = np.zeros((G.number_of_nodes(), G.number_of_nodes()))"
   ]
  },
  {
   "cell_type": "code",
   "execution_count": 8,
   "metadata": {
    "ExecuteTime": {
     "end_time": "2020-11-21T00:47:29.115359Z",
     "start_time": "2020-11-21T00:47:29.111455Z"
    }
   },
   "outputs": [],
   "source": [
    "for i in range(G.number_of_nodes()):\n",
    "    L[i][i] = G.degree[i+1]"
   ]
  },
  {
   "cell_type": "code",
   "execution_count": 9,
   "metadata": {
    "ExecuteTime": {
     "end_time": "2020-11-21T00:47:29.446371Z",
     "start_time": "2020-11-21T00:47:29.441519Z"
    }
   },
   "outputs": [],
   "source": [
    "for i in range(G.number_of_nodes()):\n",
    "    for j in range(G.number_of_nodes()):\n",
    "        if i == j:\n",
    "            continue\n",
    "        if G.has_edge(i+1, j+1):\n",
    "            L[i][j] = -1"
   ]
  },
  {
   "cell_type": "code",
   "execution_count": 10,
   "metadata": {
    "ExecuteTime": {
     "end_time": "2020-11-21T00:47:29.756983Z",
     "start_time": "2020-11-21T00:47:29.752104Z"
    }
   },
   "outputs": [
    {
     "data": {
      "text/plain": [
       "array([[ 1.,  0., -1.,  0.,  0.,  0.,  0.,  0.,  0.,  0.,  0.,  0.],\n",
       "       [ 0.,  1., -1.,  0.,  0.,  0.,  0.,  0.,  0.,  0.,  0.,  0.],\n",
       "       [-1., -1.,  4.,  0., -1.,  0.,  0., -1.,  0.,  0.,  0.,  0.],\n",
       "       [ 0.,  0.,  0.,  1., -1.,  0.,  0.,  0.,  0.,  0.,  0.,  0.],\n",
       "       [ 0.,  0., -1., -1.,  3., -1.,  0.,  0.,  0.,  0.,  0.,  0.],\n",
       "       [ 0.,  0.,  0.,  0., -1.,  1.,  0.,  0.,  0.,  0.,  0.,  0.],\n",
       "       [ 0.,  0.,  0.,  0.,  0.,  0.,  1., -1.,  0.,  0.,  0.,  0.],\n",
       "       [ 0.,  0., -1.,  0.,  0.,  0., -1.,  4., -1., -1.,  0.,  0.],\n",
       "       [ 0.,  0.,  0.,  0.,  0.,  0.,  0., -1.,  1.,  0.,  0.,  0.],\n",
       "       [ 0.,  0.,  0.,  0.,  0.,  0.,  0., -1.,  0.,  3., -1., -1.],\n",
       "       [ 0.,  0.,  0.,  0.,  0.,  0.,  0.,  0.,  0., -1.,  1.,  0.],\n",
       "       [ 0.,  0.,  0.,  0.,  0.,  0.,  0.,  0.,  0., -1.,  0.,  1.]])"
      ]
     },
     "execution_count": 10,
     "metadata": {},
     "output_type": "execute_result"
    }
   ],
   "source": [
    "L"
   ]
  },
  {
   "cell_type": "code",
   "execution_count": 11,
   "metadata": {
    "ExecuteTime": {
     "end_time": "2020-11-21T00:47:30.442654Z",
     "start_time": "2020-11-21T00:47:30.432941Z"
    },
    "scrolled": true
   },
   "outputs": [
    {
     "data": {
      "text/plain": [
       "(array([5.82842712e+00, 4.56155281e+00, 3.41421356e+00, 3.00000000e+00,\n",
       "        1.22002228e-16, 1.71572875e-01, 4.38447187e-01, 5.85786438e-01,\n",
       "        1.00000000e+00, 1.00000000e+00, 1.00000000e+00, 1.00000000e+00]),\n",
       " array([[ 1.29844172e-01,  1.30478237e-01,  9.67135681e-02,\n",
       "          2.04124145e-01,  2.88675135e-01,  1.65100388e-01,\n",
       "         -3.28596150e-01,  4.43315733e-01, -7.07106781e-01,\n",
       "         -3.30304983e-01,  2.26042382e-01,  9.15904749e-02],\n",
       "        [ 1.29844172e-01,  1.30478237e-01,  9.67135681e-02,\n",
       "          2.04124145e-01,  2.88675135e-01,  1.65100388e-01,\n",
       "         -3.28596150e-01,  4.43315733e-01,  7.07106781e-01,\n",
       "          3.30304983e-01, -2.26042382e-01, -9.15904749e-02],\n",
       "        [-6.26943121e-01, -4.64705132e-01, -2.33487208e-01,\n",
       "         -4.08248290e-01,  2.88675135e-01,  1.36773640e-01,\n",
       "         -1.84524092e-01,  1.83627389e-01,  6.12555837e-17,\n",
       "         -4.47286217e-17,  3.06097841e-17,  1.24028274e-17],\n",
       "        [-5.37832170e-02, -1.30478237e-01,  2.33487208e-01,\n",
       "          2.04124145e-01,  2.88675135e-01,  3.98587596e-01,\n",
       "          3.28596150e-01, -1.83627389e-01, -1.47286007e-16,\n",
       "          6.15018203e-01, -4.05948250e-01, -2.28602208e-01],\n",
       "        [ 2.59688344e-01,  4.64705132e-01, -5.63687984e-01,\n",
       "         -4.08248290e-01,  2.88675135e-01,  3.30200776e-01,\n",
       "          1.84524092e-01, -7.60609549e-02, -2.38395488e-16,\n",
       "          4.41152724e-17, -1.72109437e-17,  1.21625226e-17],\n",
       "        [-5.37832170e-02, -1.30478237e-01,  2.33487208e-01,\n",
       "          2.04124145e-01,  2.88675135e-01,  3.98587596e-01,\n",
       "          3.28596150e-01, -1.83627389e-01, -5.78680397e-16,\n",
       "         -6.15018203e-01,  4.05948250e-01,  2.28602208e-01],\n",
       "        [-1.29844172e-01,  1.30478237e-01, -9.67135681e-02,\n",
       "          2.04124145e-01,  2.88675135e-01, -1.65100388e-01,\n",
       "         -3.28596150e-01, -4.43315733e-01, -2.74267602e-16,\n",
       "         -1.12477293e-01, -4.37559129e-01, -3.16140321e-01],\n",
       "        [ 6.26943121e-01, -4.64705132e-01,  2.33487208e-01,\n",
       "         -4.08248290e-01,  2.88675135e-01, -1.36773640e-01,\n",
       "         -1.84524092e-01, -1.83627389e-01, -2.32081763e-16,\n",
       "         -2.33502562e-16,  7.98185972e-17,  1.05751891e-17],\n",
       "        [-1.29844172e-01,  1.30478237e-01, -9.67135681e-02,\n",
       "          2.04124145e-01,  2.88675135e-01, -1.65100388e-01,\n",
       "         -3.28596150e-01, -4.43315733e-01, -1.46445259e-16,\n",
       "          1.12477293e-01,  4.37559129e-01,  3.16140321e-01],\n",
       "        [-2.59688344e-01,  4.64705132e-01,  5.63687984e-01,\n",
       "         -4.08248290e-01,  2.88675135e-01, -3.30200776e-01,\n",
       "          1.84524092e-01,  7.60609549e-02, -1.55975685e-16,\n",
       "         -1.26703276e-16,  1.19811065e-16,  3.44197719e-18],\n",
       "        [ 5.37832170e-02, -1.30478237e-01, -2.33487208e-01,\n",
       "          2.04124145e-01,  2.88675135e-01, -3.98587596e-01,\n",
       "          3.28596150e-01,  1.83627389e-01, -2.02948672e-16,\n",
       "         -2.95639058e-04,  3.04389337e-01, -5.82586914e-01],\n",
       "        [ 5.37832170e-02, -1.30478237e-01, -2.33487208e-01,\n",
       "          2.04124145e-01,  2.88675135e-01, -3.98587596e-01,\n",
       "          3.28596150e-01,  1.83627389e-01, -2.12534400e-16,\n",
       "          2.95639058e-04, -3.04389337e-01,  5.82586914e-01]]))"
      ]
     },
     "execution_count": 11,
     "metadata": {},
     "output_type": "execute_result"
    }
   ],
   "source": [
    "np.linalg.eig(L)"
   ]
  },
  {
   "cell_type": "code",
   "execution_count": 12,
   "metadata": {
    "ExecuteTime": {
     "end_time": "2020-11-21T00:47:31.114266Z",
     "start_time": "2020-11-21T00:47:31.109387Z"
    }
   },
   "outputs": [
    {
     "data": {
      "text/plain": [
       "array([5.82842712e+00, 4.56155281e+00, 3.41421356e+00, 3.00000000e+00,\n",
       "       1.22002228e-16, 1.71572875e-01, 4.38447187e-01, 5.85786438e-01,\n",
       "       1.00000000e+00, 1.00000000e+00, 1.00000000e+00, 1.00000000e+00])"
      ]
     },
     "execution_count": 12,
     "metadata": {},
     "output_type": "execute_result"
    }
   ],
   "source": [
    "np.linalg.eig(L)[0]"
   ]
  },
  {
   "cell_type": "code",
   "execution_count": 13,
   "metadata": {
    "ExecuteTime": {
     "end_time": "2020-11-21T00:47:31.130884Z",
     "start_time": "2020-11-21T00:47:31.125999Z"
    }
   },
   "outputs": [
    {
     "data": {
      "text/plain": [
       "array([ 0.12984417,  0.12984417, -0.62694312, -0.05378322,  0.25968834,\n",
       "       -0.05378322, -0.12984417,  0.62694312, -0.12984417, -0.25968834,\n",
       "        0.05378322,  0.05378322])"
      ]
     },
     "execution_count": 13,
     "metadata": {},
     "output_type": "execute_result"
    }
   ],
   "source": [
    "np.linalg.eig(L)[1][:,0]"
   ]
  },
  {
   "cell_type": "code",
   "execution_count": 13,
   "metadata": {
    "ExecuteTime": {
     "end_time": "2020-11-20T23:31:25.647088Z",
     "start_time": "2020-11-20T23:31:25.642209Z"
    }
   },
   "outputs": [
    {
     "data": {
      "text/plain": [
       "array([1.22002228e-16, 1.71572875e-01, 4.38447187e-01, 5.85786438e-01,\n",
       "       1.00000000e+00, 1.00000000e+00, 1.00000000e+00, 1.00000000e+00,\n",
       "       3.00000000e+00, 3.41421356e+00, 4.56155281e+00, 5.82842712e+00])"
      ]
     },
     "execution_count": 13,
     "metadata": {},
     "output_type": "execute_result"
    }
   ],
   "source": [
    "np.sort(np.linalg.eig(L)[0])"
   ]
  },
  {
   "cell_type": "code",
   "execution_count": 21,
   "metadata": {
    "ExecuteTime": {
     "end_time": "2020-11-20T23:47:20.739510Z",
     "start_time": "2020-11-20T23:47:20.730728Z"
    }
   },
   "outputs": [],
   "source": [
    "file = open('yiyang_chen_task1.txt', 'w', encoding='utf-8')\n",
    "for i in range(G.number_of_nodes()):\n",
    "    for j in range(G.number_of_nodes()):\n",
    "        if j == 0:\n",
    "            file.write(str(int(L[i][j])))\n",
    "        else:\n",
    "            file.write(',' + str(int(L[i][j])))\n",
    "    file.write('\\n')\n",
    "i = 0\n",
    "for num in np.linalg.eig(L)[1][:,5]:\n",
    "    if i == 0:\n",
    "        file.write(str(num))\n",
    "        i += 1\n",
    "    else:\n",
    "        file.write(',' + str(num))\n",
    "file.write('\\n')\n",
    "file.write('{1,2,3,4,5,6},{7,8,9,10,11,12}')\n",
    "file.close()"
   ]
  },
  {
   "cell_type": "code",
   "execution_count": null,
   "metadata": {},
   "outputs": [],
   "source": []
  }
 ],
 "metadata": {
  "kernelspec": {
   "display_name": "Python 3",
   "language": "python",
   "name": "python3"
  },
  "language_info": {
   "codemirror_mode": {
    "name": "ipython",
    "version": 3
   },
   "file_extension": ".py",
   "mimetype": "text/x-python",
   "name": "python",
   "nbconvert_exporter": "python",
   "pygments_lexer": "ipython3",
   "version": "3.7.6"
  }
 },
 "nbformat": 4,
 "nbformat_minor": 4
}
