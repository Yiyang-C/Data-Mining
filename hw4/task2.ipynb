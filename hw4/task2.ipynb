{
 "cells": [
  {
   "cell_type": "code",
   "execution_count": 1,
   "metadata": {
    "ExecuteTime": {
     "end_time": "2020-11-21T02:12:43.925208Z",
     "start_time": "2020-11-21T02:12:43.201992Z"
    }
   },
   "outputs": [],
   "source": [
    "import numpy as np\n",
    "import networkx as nx\n",
    "from sklearn.cluster import KMeans"
   ]
  },
  {
   "cell_type": "code",
   "execution_count": 2,
   "metadata": {
    "ExecuteTime": {
     "end_time": "2020-11-21T02:12:43.931064Z",
     "start_time": "2020-11-21T02:12:43.926184Z"
    }
   },
   "outputs": [],
   "source": [
    "G = nx.Graph()\n",
    "G.add_edge(1,3)\n",
    "G.add_edge(2,3)\n",
    "G.add_edge(3,5)\n",
    "G.add_edge(4,5)\n",
    "G.add_edge(5,6)\n",
    "G.add_edge(3,8)\n",
    "G.add_edge(7,8)\n",
    "G.add_edge(8,9)\n",
    "G.add_edge(8,10)\n",
    "G.add_edge(10,11)\n",
    "G.add_edge(10,12)"
   ]
  },
  {
   "cell_type": "code",
   "execution_count": 3,
   "metadata": {
    "ExecuteTime": {
     "end_time": "2020-11-21T02:12:44.285862Z",
     "start_time": "2020-11-21T02:12:44.280982Z"
    }
   },
   "outputs": [],
   "source": [
    "L = np.zeros((G.number_of_nodes(), G.number_of_nodes()))\n",
    "for i in range(G.number_of_nodes()):\n",
    "    L[i][i] = G.degree[i+1]\n",
    "for i in range(G.number_of_nodes()):\n",
    "    for j in range(G.number_of_nodes()):\n",
    "        if i == j:\n",
    "            continue\n",
    "        if G.has_edge(i+1, j+1):\n",
    "            L[i][j] = -1"
   ]
  },
  {
   "cell_type": "code",
   "execution_count": 4,
   "metadata": {
    "ExecuteTime": {
     "end_time": "2020-11-21T02:12:44.787735Z",
     "start_time": "2020-11-21T02:12:44.777974Z"
    }
   },
   "outputs": [
    {
     "data": {
      "text/plain": [
       "array([[ 1.,  0., -1.,  0.,  0.,  0.,  0.,  0.,  0.,  0.,  0.,  0.],\n",
       "       [ 0.,  1., -1.,  0.,  0.,  0.,  0.,  0.,  0.,  0.,  0.,  0.],\n",
       "       [-1., -1.,  4.,  0., -1.,  0.,  0., -1.,  0.,  0.,  0.,  0.],\n",
       "       [ 0.,  0.,  0.,  1., -1.,  0.,  0.,  0.,  0.,  0.,  0.,  0.],\n",
       "       [ 0.,  0., -1., -1.,  3., -1.,  0.,  0.,  0.,  0.,  0.,  0.],\n",
       "       [ 0.,  0.,  0.,  0., -1.,  1.,  0.,  0.,  0.,  0.,  0.,  0.],\n",
       "       [ 0.,  0.,  0.,  0.,  0.,  0.,  1., -1.,  0.,  0.,  0.,  0.],\n",
       "       [ 0.,  0., -1.,  0.,  0.,  0., -1.,  4., -1., -1.,  0.,  0.],\n",
       "       [ 0.,  0.,  0.,  0.,  0.,  0.,  0., -1.,  1.,  0.,  0.,  0.],\n",
       "       [ 0.,  0.,  0.,  0.,  0.,  0.,  0., -1.,  0.,  3., -1., -1.],\n",
       "       [ 0.,  0.,  0.,  0.,  0.,  0.,  0.,  0.,  0., -1.,  1.,  0.],\n",
       "       [ 0.,  0.,  0.,  0.,  0.,  0.,  0.,  0.,  0., -1.,  0.,  1.]])"
      ]
     },
     "execution_count": 4,
     "metadata": {},
     "output_type": "execute_result"
    }
   ],
   "source": [
    "L"
   ]
  },
  {
   "cell_type": "code",
   "execution_count": 7,
   "metadata": {
    "ExecuteTime": {
     "end_time": "2020-11-21T02:13:33.144885Z",
     "start_time": "2020-11-21T02:13:33.138054Z"
    },
    "scrolled": true
   },
   "outputs": [
    {
     "data": {
      "text/plain": [
       "(array([5.82842712e+00, 4.56155281e+00, 3.41421356e+00, 3.00000000e+00,\n",
       "        1.22002228e-16, 1.71572875e-01, 4.38447187e-01, 5.85786438e-01,\n",
       "        1.00000000e+00, 1.00000000e+00, 1.00000000e+00, 1.00000000e+00]),\n",
       " array([[ 1.29844172e-01,  1.30478237e-01,  9.67135681e-02,\n",
       "          2.04124145e-01,  2.88675135e-01,  1.65100388e-01,\n",
       "         -3.28596150e-01,  4.43315733e-01, -7.07106781e-01,\n",
       "         -3.30304983e-01,  2.26042382e-01,  9.15904749e-02],\n",
       "        [ 1.29844172e-01,  1.30478237e-01,  9.67135681e-02,\n",
       "          2.04124145e-01,  2.88675135e-01,  1.65100388e-01,\n",
       "         -3.28596150e-01,  4.43315733e-01,  7.07106781e-01,\n",
       "          3.30304983e-01, -2.26042382e-01, -9.15904749e-02],\n",
       "        [-6.26943121e-01, -4.64705132e-01, -2.33487208e-01,\n",
       "         -4.08248290e-01,  2.88675135e-01,  1.36773640e-01,\n",
       "         -1.84524092e-01,  1.83627389e-01,  6.12555837e-17,\n",
       "         -4.47286217e-17,  3.06097841e-17,  1.24028274e-17],\n",
       "        [-5.37832170e-02, -1.30478237e-01,  2.33487208e-01,\n",
       "          2.04124145e-01,  2.88675135e-01,  3.98587596e-01,\n",
       "          3.28596150e-01, -1.83627389e-01, -1.47286007e-16,\n",
       "          6.15018203e-01, -4.05948250e-01, -2.28602208e-01],\n",
       "        [ 2.59688344e-01,  4.64705132e-01, -5.63687984e-01,\n",
       "         -4.08248290e-01,  2.88675135e-01,  3.30200776e-01,\n",
       "          1.84524092e-01, -7.60609549e-02, -2.38395488e-16,\n",
       "          4.41152724e-17, -1.72109437e-17,  1.21625226e-17],\n",
       "        [-5.37832170e-02, -1.30478237e-01,  2.33487208e-01,\n",
       "          2.04124145e-01,  2.88675135e-01,  3.98587596e-01,\n",
       "          3.28596150e-01, -1.83627389e-01, -5.78680397e-16,\n",
       "         -6.15018203e-01,  4.05948250e-01,  2.28602208e-01],\n",
       "        [-1.29844172e-01,  1.30478237e-01, -9.67135681e-02,\n",
       "          2.04124145e-01,  2.88675135e-01, -1.65100388e-01,\n",
       "         -3.28596150e-01, -4.43315733e-01, -2.74267602e-16,\n",
       "         -1.12477293e-01, -4.37559129e-01, -3.16140321e-01],\n",
       "        [ 6.26943121e-01, -4.64705132e-01,  2.33487208e-01,\n",
       "         -4.08248290e-01,  2.88675135e-01, -1.36773640e-01,\n",
       "         -1.84524092e-01, -1.83627389e-01, -2.32081763e-16,\n",
       "         -2.33502562e-16,  7.98185972e-17,  1.05751891e-17],\n",
       "        [-1.29844172e-01,  1.30478237e-01, -9.67135681e-02,\n",
       "          2.04124145e-01,  2.88675135e-01, -1.65100388e-01,\n",
       "         -3.28596150e-01, -4.43315733e-01, -1.46445259e-16,\n",
       "          1.12477293e-01,  4.37559129e-01,  3.16140321e-01],\n",
       "        [-2.59688344e-01,  4.64705132e-01,  5.63687984e-01,\n",
       "         -4.08248290e-01,  2.88675135e-01, -3.30200776e-01,\n",
       "          1.84524092e-01,  7.60609549e-02, -1.55975685e-16,\n",
       "         -1.26703276e-16,  1.19811065e-16,  3.44197719e-18],\n",
       "        [ 5.37832170e-02, -1.30478237e-01, -2.33487208e-01,\n",
       "          2.04124145e-01,  2.88675135e-01, -3.98587596e-01,\n",
       "          3.28596150e-01,  1.83627389e-01, -2.02948672e-16,\n",
       "         -2.95639058e-04,  3.04389337e-01, -5.82586914e-01],\n",
       "        [ 5.37832170e-02, -1.30478237e-01, -2.33487208e-01,\n",
       "          2.04124145e-01,  2.88675135e-01, -3.98587596e-01,\n",
       "          3.28596150e-01,  1.83627389e-01, -2.12534400e-16,\n",
       "          2.95639058e-04, -3.04389337e-01,  5.82586914e-01]]))"
      ]
     },
     "execution_count": 7,
     "metadata": {},
     "output_type": "execute_result"
    }
   ],
   "source": [
    "a = np.linalg.eig(L)\n",
    "a"
   ]
  },
  {
   "cell_type": "code",
   "execution_count": 6,
   "metadata": {
    "ExecuteTime": {
     "end_time": "2020-11-21T02:12:46.859617Z",
     "start_time": "2020-11-21T02:12:46.855713Z"
    },
    "scrolled": true
   },
   "outputs": [],
   "source": [
    "t = np.zeros((G.number_of_nodes(), 3))"
   ]
  },
  {
   "cell_type": "code",
   "execution_count": 8,
   "metadata": {
    "ExecuteTime": {
     "end_time": "2020-11-21T02:13:56.531136Z",
     "start_time": "2020-11-21T02:13:56.526255Z"
    }
   },
   "outputs": [],
   "source": [
    "j = 0\n",
    "for val in a[1][:,5]:\n",
    "    t[j][0] = val\n",
    "    j += 1\n",
    "j = 0\n",
    "for val in a[1][:,6]:\n",
    "    t[j][1] = val\n",
    "    j += 1\n",
    "j = 0\n",
    "for val in a[1][:,7]:\n",
    "    t[j][2] = val\n",
    "    j += 1\n"
   ]
  },
  {
   "cell_type": "code",
   "execution_count": 9,
   "metadata": {
    "ExecuteTime": {
     "end_time": "2020-11-21T02:13:59.619916Z",
     "start_time": "2020-11-21T02:13:59.615035Z"
    },
    "scrolled": true
   },
   "outputs": [
    {
     "data": {
      "text/plain": [
       "array([[ 0.16510039, -0.32859615,  0.44331573],\n",
       "       [ 0.16510039, -0.32859615,  0.44331573],\n",
       "       [ 0.13677364, -0.18452409,  0.18362739],\n",
       "       [ 0.3985876 ,  0.32859615, -0.18362739],\n",
       "       [ 0.33020078,  0.18452409, -0.07606095],\n",
       "       [ 0.3985876 ,  0.32859615, -0.18362739],\n",
       "       [-0.16510039, -0.32859615, -0.44331573],\n",
       "       [-0.13677364, -0.18452409, -0.18362739],\n",
       "       [-0.16510039, -0.32859615, -0.44331573],\n",
       "       [-0.33020078,  0.18452409,  0.07606095],\n",
       "       [-0.3985876 ,  0.32859615,  0.18362739],\n",
       "       [-0.3985876 ,  0.32859615,  0.18362739]])"
      ]
     },
     "execution_count": 9,
     "metadata": {},
     "output_type": "execute_result"
    }
   ],
   "source": [
    "t"
   ]
  },
  {
   "cell_type": "code",
   "execution_count": 10,
   "metadata": {
    "ExecuteTime": {
     "end_time": "2020-11-21T02:14:02.116287Z",
     "start_time": "2020-11-21T02:14:02.111407Z"
    }
   },
   "outputs": [
    {
     "data": {
      "text/plain": [
       "array([ 0.13047824,  0.13047824, -0.46470513, -0.13047824,  0.46470513,\n",
       "       -0.13047824,  0.13047824, -0.46470513,  0.13047824,  0.46470513,\n",
       "       -0.13047824, -0.13047824])"
      ]
     },
     "execution_count": 10,
     "metadata": {},
     "output_type": "execute_result"
    }
   ],
   "source": [
    "a[1][:,1]"
   ]
  },
  {
   "cell_type": "code",
   "execution_count": 11,
   "metadata": {
    "ExecuteTime": {
     "end_time": "2020-11-21T02:14:03.626898Z",
     "start_time": "2020-11-21T02:14:03.606403Z"
    }
   },
   "outputs": [],
   "source": [
    "kmeans = KMeans(n_clusters=4, random_state=0).fit(t)"
   ]
  },
  {
   "cell_type": "code",
   "execution_count": 12,
   "metadata": {
    "ExecuteTime": {
     "end_time": "2020-11-21T02:14:04.796813Z",
     "start_time": "2020-11-21T02:14:04.792933Z"
    }
   },
   "outputs": [
    {
     "data": {
      "text/plain": [
       "array([2, 2, 2, 0, 0, 0, 3, 3, 3, 1, 1, 1])"
      ]
     },
     "execution_count": 12,
     "metadata": {},
     "output_type": "execute_result"
    }
   ],
   "source": [
    "kmeans.labels_"
   ]
  },
  {
   "cell_type": "code",
   "execution_count": 13,
   "metadata": {
    "ExecuteTime": {
     "end_time": "2020-11-21T02:14:08.352085Z",
     "start_time": "2020-11-21T02:14:08.347204Z"
    }
   },
   "outputs": [
    {
     "data": {
      "text/plain": [
       "array([[ 0.37579199,  0.28057213, -0.14777191],\n",
       "       [-0.37579199,  0.28057213,  0.14777191],\n",
       "       [ 0.15565814, -0.28057213,  0.35675295],\n",
       "       [-0.15565814, -0.28057213, -0.35675295]])"
      ]
     },
     "execution_count": 13,
     "metadata": {},
     "output_type": "execute_result"
    }
   ],
   "source": [
    "c = kmeans.cluster_centers_\n",
    "c"
   ]
  },
  {
   "cell_type": "code",
   "execution_count": 14,
   "metadata": {
    "ExecuteTime": {
     "end_time": "2020-11-21T02:14:12.265917Z",
     "start_time": "2020-11-21T02:14:12.252253Z"
    }
   },
   "outputs": [],
   "source": [
    "file = open('yiyang_chen_task2.txt', 'w', encoding='utf-8')\n",
    "for l in t:\n",
    "    for i in range(3):\n",
    "        if i == 0:\n",
    "            file.write(str(l[i]))\n",
    "        else:\n",
    "            file.write(',' + str(l[i]))\n",
    "    file.write('\\n')\n",
    "for l in c:\n",
    "    for i in range(3):\n",
    "        if i == 0:\n",
    "            file.write(str(l[i]))\n",
    "        else:\n",
    "            file.write(',' + str(l[i]))\n",
    "    file.write('\\n')\n",
    "file.write('{1,2,3},{4,5,6},{7,8,9},{10,11,12}')\n",
    "file.close()"
   ]
  },
  {
   "cell_type": "code",
   "execution_count": null,
   "metadata": {},
   "outputs": [],
   "source": []
  }
 ],
 "metadata": {
  "kernelspec": {
   "display_name": "Python 3",
   "language": "python",
   "name": "python3"
  },
  "language_info": {
   "codemirror_mode": {
    "name": "ipython",
    "version": 3
   },
   "file_extension": ".py",
   "mimetype": "text/x-python",
   "name": "python",
   "nbconvert_exporter": "python",
   "pygments_lexer": "ipython3",
   "version": "3.7.6"
  }
 },
 "nbformat": 4,
 "nbformat_minor": 4
}
